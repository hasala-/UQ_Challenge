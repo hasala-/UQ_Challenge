{
 "cells": [
  {
   "cell_type": "markdown",
   "metadata": {},
   "source": [
    "# Bayesian Uncertainty Modeling with the Local Model\n",
    "\n",
    "This notebook demonstrates how to apply a Bayesian approach to uncertainty modeling using the local computational model provided in the UQ-Challenge-2025. We will:\n",
    "\n",
    "1. **Define the Problem**: Understand the inputs and outputs of the local model.\n",
    "2. **Generate Simulation Data**: Sample inputs and run the local model to obtain outputs.\n",
    "3. **Perform Bayesian Inference**: Use Markov Chain Monte Carlo (MCMC) to estimate the posterior distributions of uncertain parameters.\n",
    "4. **Analyze Results**: Interpret the posterior distributions and assess uncertainty.\n",
    "\n",
    "---\n",
    "\n",
    "## 1. Define the Problem\n",
    "\n",
    "The local model accepts an input vector \\( X \\) comprising:\n",
    "\n",
    "- **Aleatory Variables (\\( X_a \\))**: Inherently random variables.\n",
    "- **Epistemic Variables (\\( X_e \\))**: Variables representing lack of knowledge.\n",
    "- **Control Variables (\\( X_c \\))**: Decision parameters to be optimized.\n",
    "\n",
    "Our goal is to quantify uncertainty in \\( X_a \\) and \\( X_e \\) based on the model's outputs.\n",
    "\n",
    "---\n",
    "\n",
    "## 2. Generate Simulation Data\n",
    "\n",
    "We will generate samples for \\( X_a \\) and \\( X_e \\), run the local model, and collect the outputs."
   ]
  },
  {
   "cell_type": "code",
   "execution_count": null,
   "metadata": {},
   "outputs": [],
   "source": [
    "\n",
    "import numpy as np\n",
    "import pandas as pd\n",
    "import subprocess\n",
    "\n",
    "# Define the number of samples\n",
    "num_samples = 1000\n",
    "\n",
    "# Sample aleatory variables (e.g., assuming a normal distribution)\n",
    "X_a_samples = np.random.normal(loc=50, scale=10, size=num_samples)\n",
    "\n",
    "# Sample epistemic variables (e.g., assuming uniform distribution within a range)\n",
    "X_e_samples = np.random.uniform(low=20, high=80, size=num_samples)\n",
    "\n",
    "# Placeholder for control variables (set to a fixed value for this example)\n",
    "X_c = 1.0\n",
    "\n",
    "# Function to run the local model\n",
    "def run_local_model(X_a, X_e, X_c):\n",
    "    # Prepare input data\n",
    "    input_data = f\"{X_a},{X_e},{X_c}\\n\"\n",
    "    with open('input.csv', 'w') as f:\n",
    "        f.write(input_data)\n",
    "    \n",
    "    # Call the executable (ensure 'model.exe' is in the working directory)\n",
    "    result = subprocess.run(['model.exe'], capture_output=True)\n",
    "    \n",
    "    # Read the output\n",
    "    output = pd.read_csv('output.csv')\n",
    "    return output['Y'].values[0]\n",
    "\n",
    "# Run the model for each sample and collect outputs\n",
    "Y_samples = []\n",
    "for X_a, X_e in zip(X_a_samples, X_e_samples):\n",
    "    Y = run_local_model(X_a, X_e, X_c)\n",
    "    Y_samples.append(Y)\n",
    "\n",
    "Y_samples = np.array(Y_samples)\n"
   ]
  },
  {
   "cell_type": "markdown",
   "metadata": {},
   "source": []
  }
 ],
 "metadata": {
  "kernelspec": {
   "display_name": "base",
   "language": "python",
   "name": "python3"
  },
  "language_info": {
   "name": "python",
   "version": "3.12.7"
  }
 },
 "nbformat": 4,
 "nbformat_minor": 2
}
