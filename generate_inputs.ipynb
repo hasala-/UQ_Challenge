{
 "cells": [
  {
   "cell_type": "markdown",
   "metadata": {},
   "source": [
    "\n",
    "Where:\n",
    "- **Xa1, Xa2** → Two **aleatory variables**.\n",
    "- **Xe1, Xe2, Xe3** → Three **epistemic variables**.\n",
    "- **Xc1, Xc2, Xc3** → Three **control variables**.\n",
    "- **Constant** → Fixed constant in all inputs.\n",
    "\n",
    "We will:\n",
    "1. Generate inputs in the correct format.\n",
    "2. Run the local model and collect outputs.\n",
    "3. Perform Bayesian inference on the collected data.\n",
    "\n",
    "---\n",
    "\n",
    "## 1. Generate Simulation Data\n",
    "\n",
    "We will sample aleatory and epistemic variables, assign control variables, and generate formatted input for the local model.\n",
    "\n"
   ]
  },
  {
   "cell_type": "code",
   "execution_count": 1,
   "metadata": {},
   "outputs": [],
   "source": [
    "import numpy as np\n",
    "import pandas as pd\n",
    "import subprocess\n",
    "\n",
    "# Define the number of samples\n",
    "num_samples = 1000\n",
    "\n",
    "# Sample aleatory variables (Xa1 and Xa2) - Assume normal distribution\n",
    "Xa1_samples = np.random.normal(loc=0.1, scale=0.01, size=num_samples)\n",
    "Xa2_samples = np.random.normal(loc=0.2, scale=0.01, size=num_samples)\n",
    "\n",
    "# Sample epistemic variables (Xe1, Xe2, Xe3) - Assume uniform distribution\n",
    "Xe1_samples = np.random.uniform(low=0.3, high=0.4, size=num_samples)\n",
    "Xe2_samples = np.random.uniform(low=0.4, high=0.5, size=num_samples)\n",
    "Xe3_samples = np.random.uniform(low=0.5, high=0.6, size=num_samples)\n",
    "\n",
    "# Control variables (Xc1, Xc2, Xc3) - Fixed values\n",
    "Xc1, Xc2, Xc3 = 0.5, 0.5, 0.5\n",
    "\n",
    "# Constant value\n",
    "constant_value = 42.0\n",
    "\n",
    "# Format input data\n",
    "formatted_data = np.column_stack([\n",
    "    Xa1_samples, Xa2_samples, Xe1_samples, Xe2_samples, Xe3_samples, \n",
    "    np.full(num_samples, Xc1), np.full(num_samples, Xc2), np.full(num_samples, Xc3),\n",
    "    np.full(num_samples, constant_value)\n",
    "])\n",
    "\n",
    "# Save inputs to a CSV file\n",
    "np.savetxt(\"input_new.csv\", formatted_data, delimiter=\",\", fmt=\"%.18e\")"
   ]
  }
 ],
 "metadata": {
  "kernelspec": {
   "display_name": "base",
   "language": "python",
   "name": "python3"
  },
  "language_info": {
   "codemirror_mode": {
    "name": "ipython",
    "version": 3
   },
   "file_extension": ".py",
   "mimetype": "text/x-python",
   "name": "python",
   "nbconvert_exporter": "python",
   "pygments_lexer": "ipython3",
   "version": "3.12.7"
  }
 },
 "nbformat": 4,
 "nbformat_minor": 2
}
